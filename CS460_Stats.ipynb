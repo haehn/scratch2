{
 "cells": [
  {
   "cell_type": "code",
   "execution_count": 1,
   "metadata": {},
   "outputs": [
    {
     "data": {
      "image/png": "[encoded data removed]",
      "text/plain": [
       "<Figure size 720x360 with 1 Axes>"
      ]
     },
     "metadata": {
      "needs_background": "dark"
     },
     "output_type": "display_data"
    }
   ],
   "source": [
    "import numpy as np\n",
    "import matplotlib.pyplot as plt\n",
    "import matplotlib as mpl\n",
    "COLOR = 'white'\n",
    "mpl.rcParams['text.color'] = COLOR\n",
    "mpl.rcParams['axes.labelcolor'] = COLOR\n",
    "mpl.rcParams['xtick.color'] = COLOR\n",
    "mpl.rcParams['ytick.color'] = COLOR\n",
    "# Make a fake dataset:\n",
    "# height = [8, 2, 1, 1, 6, 3, 5, 1]\n",
    "# bars = [133,128,123,118,111,101,100,70]\n",
    "height = [3,11,1,1,4]\n",
    "bars = [133,122,100,65,0]\n",
    "\n",
    "y_pos = np.arange(len(height))\n",
    "plt.figure(figsize=(10,5))\n",
    "# ax = plt.figure().gca()\n",
    "\n",
    "# ax.yaxis.set_major_locator(MaxNLocator(integer=True))\n",
    "\n",
    "# Create bars\n",
    "plt.bar(y_pos, height)\n",
    " \n",
    "# Create names on the x-axis\n",
    "plt.xticks(y_pos, bars)\n",
    "plt.yticks(range(0,21,5))\n",
    "# Show graphic\n",
    "\n",
    "plt.show()\n"
   ]
  },
  {
   "cell_type": "code",
   "execution_count": null,
   "metadata": {},
   "outputs": [],
   "source": []
  }
 ],
 "metadata": {
  "kernelspec": {
   "display_name": "Python 3",
   "language": "python",
   "name": "python3"
  },
  "language_info": {
   "codemirror_mode": {
    "name": "ipython",
    "version": 3
   },
   "file_extension": ".py",
   "mimetype": "text/x-python",
   "name": "python",
   "nbconvert_exporter": "python",
   "pygments_lexer": "ipython3",
   "version": "3.8.3"
  }
 },
 "nbformat": 4,
 "nbformat_minor": 4
}
